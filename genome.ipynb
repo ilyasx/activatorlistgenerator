{
 "cells": [
  {
   "cell_type": "code",
   "execution_count": 5,
   "metadata": {
    "collapsed": true
   },
   "outputs": [],
   "source": [
    "import requests\n",
    "import pandas as pd\n",
    "import os\n",
    "from bioservices import UniProt"
   ]
  },
  {
   "cell_type": "code",
   "execution_count": 46,
   "metadata": {},
   "outputs": [
    {
     "name": "stdout",
     "output_type": "stream",
     "text": [
      "http://www.p2tf.org/exportGenomeXLS.php?exportDB=AcamaDB&PHPSESSID=d2d14816713fa860e32963343d200a77\n",
      "http://www.p2tf.org/exportGenomeXLS.php?exportDB=Acam1DB&PHPSESSID=d2d14816713fa860e32963343d200a77\n"
     ]
    }
   ],
   "source": [
    "def getGenomeName():\n",
    "    with open(\"name.txt\",\"r\") as fileobject:\n",
    "        data=fileobject.read()\n",
    "    genName = []\n",
    "    for i in data.split(\"VALUE\"):\n",
    "        genName.append(i.split('\\\"')[1])\n",
    "    return genName\n",
    "\n",
    "def getAfile():\n",
    "    linkP1=\"http://www.p2tf.org/exportGenomeXLS.php?exportDB=\"\n",
    "    linkp2=\"&PHPSESSID=d2d14816713fa860e32963343d200a77\"\n",
    "    #len(getGenomeName())\n",
    "    for i in range(2,4): #change the 4--->len(getGenomeName())\n",
    "        print (linkP1+getGenomeName()[i]+linkp2)\n",
    "        r = requests.get(linkP1+getGenomeName()[i]+linkp2)\n",
    "        with open(\"files/\"+getGenomeName()[i]+\".xls\", \"wb\") as code:\n",
    "            code.write(r.content)\n",
    "\n",
    "        \n",
    "    \n",
    "#getAfile()"
   ]
  },
  {
   "cell_type": "code",
   "execution_count": 3,
   "metadata": {
    "scrolled": true
   },
   "outputs": [
    {
     "name": "stdout",
     "output_type": "stream",
     "text": [
      "WARNING *** OLE2 inconsistency: SSCS size is 0 but SSAT size is non-zero\n",
      "WARNING *** OLE2 inconsistency: SSCS size is 0 but SSAT size is non-zero\n",
      "['LuxR', 'TetR', 'ArsR', 'FeoC', 'LysR', 'TetR', 'MerR', 'TetR', 'TetR', 'TetR', 'TetR', 'Xre', 'AbrB', 'TetR', 'Fur', 'HrcA', 'DeoR', 'TetR', 'PadR', 'AraC', 'TetR', 'HxlR', 'HxlR', 'GntR', 'TetR', 'AraC', 'AraC', 'Xre', 'Fur', 'TetR', 'SfsA', 'MarR', 'Rrf2', 'PadR', 'Xre', 'TetR', 'TetR', 'ArsR', 'TetR', 'TetR', 'ArsR', 'LuxR', 'Fur', 'Xre', 'TetR', 'Fur', 'Mga', 'MerR', 'TetR', 'Rrf2', 'AraC', 'AraC', 'AraC', 'AraC', 'AraC', 'MerR', 'ArsR', 'Xre', 'Fur', 'Fur', 'Xre', 'LuxR', 'PadR', 'TetR', 'ArsR', 'PadR', 'PadR', 'Xre', 'NrdR', 'LuxR', 'ArsR', 'AraC', 'TetR', 'Xre', 'LuxR', 'TrmB', 'TetR', 'AraC', 'AraC', 'TetR', 'AraC', 'MarR', 'Xre', 'HxlR', 'PadR', 'LuxR', 'LuxR', 'TetR', 'TetR', 'AraC', 'TetR', 'TetR', 'AraC', 'Xre', 'Xre', 'TrmB', 'AraC', 'TetR', 'ArsR', 'Xre', 'LuxR', 'AraC', 'AraC', 'Fur', 'Xre', 'Xre', 'TetR', 'TetR', 'FeoC', 'AraC', 'AraC', 'AraC', 'AraC', 'Fur', 'AraC', 'Xre', 'Xre', 'ArsR']\n"
     ]
    }
   ],
   "source": [
    "def getTRfromtheFiles(folder):\n",
    "    listTR = []\n",
    "    for i in os.listdir(\"files/\"):\n",
    "        df = pd.read_excel(open(\"files/\"+i,'rb'))\n",
    "        for i in range(0,len(df[\"Unnamed: 1\"])):\n",
    "            if(\"TR\"==df[\"Unnamed: 1\"][i]):\n",
    "                if((df[\"Unnamed: 2\"][i])!=\"Unclassified\"):\n",
    "                    listTR.append(df[\"Unnamed: 2\"][i])\n",
    "    return listTR\n",
    "\n"
   ]
  },
  {
   "cell_type": "code",
   "execution_count": 7,
   "metadata": {},
   "outputs": [
    {
     "name": "stdout",
     "output_type": "stream",
     "text": [
      "LuxR\n",
      "TetR\n",
      "ArsR\n",
      "FeoC\n",
      "LysR\n"
     ]
    }
   ],
   "source": [
    "def getListOfEntryName(listofTR)\n",
    "    u = UniProt()\n",
    "    #u.search(\"AM1_0029\", columns=\"entry name\")\n",
    "    #len(temp)\n",
    "    for i in range(0,2):# change the 5 -> len(temp)\n",
    "        print (listofTR[i])\n",
    "        data=u.search(listofTR[i], frmt='tab',limit=10000,columns=\"entry name, protein names\").split(\"\\n\")\n",
    "        active = []\n",
    "        regulator = []\n",
    "        repressors = []\n",
    "        type = []\n",
    "\n",
    "        for i in range(1,len(data)-1,):\n",
    "            if \"activator\" in (data[i].split(\"\\t\")[1].split(\" \")):\n",
    "                active.append(data[i].split(\"\\t\")[0])\n",
    "\n",
    "                #print (\"activator\")\n",
    "                #print (data[i].split(\"\\t\")[1].split(\" \"))\n",
    "            #elif \"\" in (data[i].split(\"\\t\")[1].split(\" \")):\n",
    "            elif \"regulator\" in (data[i].split(\"\\t\")[1].split(\" \")):\n",
    "                regulator.append(data[i].split(\"\\t\")[0])\n",
    "                #print (data[i].split(\"\\t\")[1].split(\" \"))\n",
    "            elif \"repressors\" in (data[i].split(\"\\t\")[1].split(\" \")):\n",
    "                repressors.append(data[i].split(\"\\t\")[0])\n",
    "\n",
    "        df = pd.DataFrame()\n",
    "        df[\"active\"]=active\n",
    "        #print (df)\n",
    "        df.to_csv(\"activator.csv\")\n",
    "        df = pd.DataFrame()\n",
    "\n",
    "        df[\"regulator\"]=regulator\n",
    "        #print (df)\n",
    "        df.to_csv(\"regulator.csv\")\n",
    "        df = pd.DataFrame()\n",
    "        df[\"repressors\"]=repressors\n",
    "        #print (df)\n",
    "        df.to_csv(\"repressors.csv\")\n",
    "getListOfEntryName(getTRfromtheFiles(\"files/\"))"
   ]
  },
  {
   "cell_type": "code",
   "execution_count": null,
   "metadata": {
    "collapsed": true
   },
   "outputs": [],
   "source": [
    "def getFasta(list):\n",
    "    return \"fasta\""
   ]
  }
 ],
 "metadata": {
  "kernelspec": {
   "display_name": "Python 3",
   "language": "python",
   "name": "python3"
  }
 },
 "nbformat": 4,
 "nbformat_minor": 2
}
